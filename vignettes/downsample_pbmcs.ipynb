{
 "cells": [
  {
   "cell_type": "markdown",
   "metadata": {},
   "source": [
    "## Quick start (<5 min) PBMCs tutorial\n",
    "\n",
    "Set up datasets for the .Rmd tutorial."
   ]
  },
  {
   "cell_type": "code",
   "execution_count": 1,
   "metadata": {},
   "outputs": [],
   "source": [
    "# Basic function to plot cells, colored and faceted by metadata variables\n",
    "# \n",
    "# metadata metadata, with UMAP labels in UMAP1 and UMAP2 slots\n",
    "# title Plot title\n",
    "# color.by metadata column name for phenotype labels\n",
    "# facet.by metadata column name for faceting\n",
    "# color.mapping custom color mapping\n",
    "# show.legend Show cell type legend\n",
    "\n",
    "plotBasic = function(umap_labels,                # metadata, with UMAP labels in UMAP1 and UMAP2 slots\n",
    "                        title = 'Query',         # Plot title\n",
    "                        color.by = 'cell_type',  # metadata column name for coloring\n",
    "                        facet.by = NULL,         # (optional) metadata column name for faceting\n",
    "                        color.mapping = NULL,    # custom color mapping\n",
    "                        legend.position = 'right') {  # Show cell type legend\n",
    "    \n",
    "    p = umap_labels %>%\n",
    "            dplyr::sample_frac(1L) %>% # permute rows randomly\n",
    "            ggplot(aes(x = UMAP1, y = UMAP2)) + \n",
    "            geom_point_rast(aes(col = get(color.by)), size = 1, stroke = 0.4, shape = 16)\n",
    "        if (!is.null(color.mapping)) { p = p + scale_color_manual(values = color.mapping) }\n",
    "    \n",
    "    # Default formatting\n",
    "    p = p + theme_bw() +\n",
    "            labs(title = title, color = color.by) + \n",
    "            theme(plot.title = element_text(hjust = 0.5)) +\n",
    "            theme(legend.position=legend.position) +\n",
    "            theme(legend.text = element_text(size=8), legend.title=element_text(size=12)) + \n",
    "            guides(colour = guide_legend(override.aes = list(size = 4))) + guides(alpha = 'none')\n",
    "\n",
    "    if(!is.null(facet.by)) {\n",
    "        p = p + facet_wrap(~get(facet.by)) +\n",
    "                theme(strip.text.x = element_text(size = 12)) }    \n",
    "    return(p)\n",
    "}\n",
    "\n",
    "# Colors for PBMCs\n",
    "pbmc_colors = c(\"B\" = \"#66C2A5\", \n",
    "              \"DC\" = \"#FC8D62\",\n",
    "              \"HSC\" = \"#8DA0CB\",\n",
    "              \"MK\" = \"#E78AC3\", \n",
    "              \"Mono_CD14\" = \"#A6D854\",\n",
    "              \"Mono_CD16\" = \"#f2ec72\",\n",
    "              \"NK\" = \"#62AAEA\", \n",
    "              \"T_CD4\" = \"#D1C656\",\n",
    "              \"T_CD8\" = \"#968763\")"
   ]
  },
  {
   "cell_type": "code",
   "execution_count": 2,
   "metadata": {},
   "outputs": [],
   "source": [
    "suppressPackageStartupMessages({\n",
    "    # Analysis\n",
    "    library(symphony)\n",
    "    library(harmony)\n",
    "    library(irlba)\n",
    "    library(data.table)\n",
    "    library(dplyr)\n",
    "\n",
    "    # Plotting\n",
    "    library(ggthemes)\n",
    "    library(ggrastr)\n",
    "    library(RColorBrewer)\n",
    "    library(patchwork)\n",
    "})\n",
    "\n",
    "fig.size <- function (height, width) {\n",
    "    options(repr.plot.height = height, repr.plot.width = width)\n",
    "}\n",
    "fig.size(4, 6)"
   ]
  },
  {
   "cell_type": "code",
   "execution_count": 3,
   "metadata": {},
   "outputs": [
    {
     "data": {
      "text/html": [
       "<style>\n",
       ".list-inline {list-style: none; margin:0; padding: 0}\n",
       ".list-inline>li {display: inline-block}\n",
       ".list-inline>li:not(:last-child)::after {content: \"\\00b7\"; padding: 0 .5ex}\n",
       "</style>\n",
       "<ol class=list-inline><li>33694</li><li>20571</li></ol>\n"
      ],
      "text/latex": [
       "\\begin{enumerate*}\n",
       "\\item 33694\n",
       "\\item 20571\n",
       "\\end{enumerate*}\n"
      ],
      "text/markdown": [
       "1. 33694\n",
       "2. 20571\n",
       "\n",
       "\n"
      ],
      "text/plain": [
       "[1] 33694 20571"
      ]
     },
     "metadata": {},
     "output_type": "display_data"
    },
    {
     "data": {
      "text/html": [
       "<style>\n",
       ".list-inline {list-style: none; margin:0; padding: 0}\n",
       ".list-inline>li {display: inline-block}\n",
       ".list-inline>li:not(:last-child)::after {content: \"\\00b7\"; padding: 0 .5ex}\n",
       "</style>\n",
       "<ol class=list-inline><li>20571</li><li>7</li></ol>\n"
      ],
      "text/latex": [
       "\\begin{enumerate*}\n",
       "\\item 20571\n",
       "\\item 7\n",
       "\\end{enumerate*}\n"
      ],
      "text/markdown": [
       "1. 20571\n",
       "2. 7\n",
       "\n",
       "\n"
      ],
      "text/plain": [
       "[1] 20571     7"
      ]
     },
     "metadata": {},
     "output_type": "display_data"
    }
   ],
   "source": [
    "# Read in normalized expression and metadata\n",
    "pbmcs_exprs_norm = readRDS('../../symphony_reproducibility/data/Fig2_pbmcs/exprs_norm_gold_filtered.rds')\n",
    "pbmcs_meta = readRDS('../../symphony_reproducibility/data/Fig2_pbmcs/metadata_gold_filtered.rds')\n",
    "\n",
    "pbmcs_meta$pub_res0.8 = NULL\n",
    "pbmcs_meta$nnk5_res0.8 = NULL\n",
    "pbmcs_meta$pub_cell_type = NULL\n",
    "pbmcs_meta$pub_cell_subtype = NULL\n",
    "\n",
    "dim(pbmcs_exprs_norm)\n",
    "dim(pbmcs_meta)"
   ]
  },
  {
   "cell_type": "code",
   "execution_count": 4,
   "metadata": {},
   "outputs": [],
   "source": [
    "# Downsample the data\n",
    "set.seed(0)\n",
    "downsample_idx = sample(1:20571, 1200)\n",
    "pbmcs_exprs_small = pbmcs_exprs_norm[, downsample_idx]\n",
    "pbmcs_meta_small = pbmcs_meta[downsample_idx, ]"
   ]
  },
  {
   "cell_type": "code",
   "execution_count": 5,
   "metadata": {},
   "outputs": [
    {
     "data": {
      "text/plain": [
       "\n",
       "3pv1 3pv2   5p \n",
       " 290  480  430 "
      ]
     },
     "metadata": {},
     "output_type": "display_data"
    }
   ],
   "source": [
    "table(pbmcs_meta_small$donor)"
   ]
  },
  {
   "cell_type": "markdown",
   "metadata": {},
   "source": [
    "## Get the data\n",
    "If you would like to follow along, we provide the files `pbmcs_exprs_norm.rda` and `pbmcs_meta.rda` in the `data` directory."
   ]
  },
  {
   "cell_type": "code",
   "execution_count": 6,
   "metadata": {},
   "outputs": [
    {
     "data": {
      "text/html": [
       "<style>\n",
       ".list-inline {list-style: none; margin:0; padding: 0}\n",
       ".list-inline>li {display: inline-block}\n",
       ".list-inline>li:not(:last-child)::after {content: \"\\00b7\"; padding: 0 .5ex}\n",
       "</style>\n",
       "<ol class=list-inline><li>33694</li><li>1200</li></ol>\n"
      ],
      "text/latex": [
       "\\begin{enumerate*}\n",
       "\\item 33694\n",
       "\\item 1200\n",
       "\\end{enumerate*}\n"
      ],
      "text/markdown": [
       "1. 33694\n",
       "2. 1200\n",
       "\n",
       "\n"
      ],
      "text/plain": [
       "[1] 33694  1200"
      ]
     },
     "metadata": {},
     "output_type": "display_data"
    },
    {
     "data": {
      "text/html": [
       "<style>\n",
       ".list-inline {list-style: none; margin:0; padding: 0}\n",
       ".list-inline>li {display: inline-block}\n",
       ".list-inline>li:not(:last-child)::after {content: \"\\00b7\"; padding: 0 .5ex}\n",
       "</style>\n",
       "<ol class=list-inline><li>1200</li><li>7</li></ol>\n"
      ],
      "text/latex": [
       "\\begin{enumerate*}\n",
       "\\item 1200\n",
       "\\item 7\n",
       "\\end{enumerate*}\n"
      ],
      "text/markdown": [
       "1. 1200\n",
       "2. 7\n",
       "\n",
       "\n"
      ],
      "text/plain": [
       "[1] 1200    7"
      ]
     },
     "metadata": {},
     "output_type": "display_data"
    }
   ],
   "source": [
    "dim(pbmcs_exprs_small)\n",
    "dim(pbmcs_meta_small)"
   ]
  },
  {
   "cell_type": "code",
   "execution_count": 7,
   "metadata": {},
   "outputs": [
    {
     "data": {
      "text/html": [
       "<table class=\"dataframe\">\n",
       "<caption>A data.frame: 4 × 7</caption>\n",
       "<thead>\n",
       "\t<tr><th></th><th scope=col>cell_id</th><th scope=col>donor</th><th scope=col>nUMI</th><th scope=col>nGene</th><th scope=col>percent_mito</th><th scope=col>cell_type</th><th scope=col>cell_type_broad</th></tr>\n",
       "\t<tr><th></th><th scope=col>&lt;chr&gt;</th><th scope=col>&lt;chr&gt;</th><th scope=col>&lt;int&gt;</th><th scope=col>&lt;int&gt;</th><th scope=col>&lt;dbl&gt;</th><th scope=col>&lt;chr&gt;</th><th scope=col>&lt;chr&gt;</th></tr>\n",
       "</thead>\n",
       "<tbody>\n",
       "\t<tr><th scope=row>17642</th><td>fivePrime_GATCGCGAGACCGGAT  </td><td>5p  </td><td>6580</td><td>2020</td><td>0.05714286</td><td>B    </td><td>B</td></tr>\n",
       "\t<tr><th scope=row>4820</th><td>threepfresh_GATCGTACAAAGGTGC</td><td>3pv2</td><td>4426</td><td>1207</td><td>0.03366471</td><td>T_CD8</td><td>T</td></tr>\n",
       "\t<tr><th scope=row>13347</th><td>fivePrime_AACTCAGGTTACGCGC  </td><td>5p  </td><td>4750</td><td>1670</td><td>0.05642105</td><td>B    </td><td>B</td></tr>\n",
       "\t<tr><th scope=row>10634</th><td>threepv1_CGTGATGAGTCCTC     </td><td>3pv1</td><td>4121</td><td>1228</td><td>0.01504489</td><td>T_CD4</td><td>T</td></tr>\n",
       "</tbody>\n",
       "</table>\n"
      ],
      "text/latex": [
       "A data.frame: 4 × 7\n",
       "\\begin{tabular}{r|lllllll}\n",
       "  & cell\\_id & donor & nUMI & nGene & percent\\_mito & cell\\_type & cell\\_type\\_broad\\\\\n",
       "  & <chr> & <chr> & <int> & <int> & <dbl> & <chr> & <chr>\\\\\n",
       "\\hline\n",
       "\t17642 & fivePrime\\_GATCGCGAGACCGGAT   & 5p   & 6580 & 2020 & 0.05714286 & B     & B\\\\\n",
       "\t4820 & threepfresh\\_GATCGTACAAAGGTGC & 3pv2 & 4426 & 1207 & 0.03366471 & T\\_CD8 & T\\\\\n",
       "\t13347 & fivePrime\\_AACTCAGGTTACGCGC   & 5p   & 4750 & 1670 & 0.05642105 & B     & B\\\\\n",
       "\t10634 & threepv1\\_CGTGATGAGTCCTC      & 3pv1 & 4121 & 1228 & 0.01504489 & T\\_CD4 & T\\\\\n",
       "\\end{tabular}\n"
      ],
      "text/markdown": [
       "\n",
       "A data.frame: 4 × 7\n",
       "\n",
       "| <!--/--> | cell_id &lt;chr&gt; | donor &lt;chr&gt; | nUMI &lt;int&gt; | nGene &lt;int&gt; | percent_mito &lt;dbl&gt; | cell_type &lt;chr&gt; | cell_type_broad &lt;chr&gt; |\n",
       "|---|---|---|---|---|---|---|---|\n",
       "| 17642 | fivePrime_GATCGCGAGACCGGAT   | 5p   | 6580 | 2020 | 0.05714286 | B     | B |\n",
       "| 4820 | threepfresh_GATCGTACAAAGGTGC | 3pv2 | 4426 | 1207 | 0.03366471 | T_CD8 | T |\n",
       "| 13347 | fivePrime_AACTCAGGTTACGCGC   | 5p   | 4750 | 1670 | 0.05642105 | B     | B |\n",
       "| 10634 | threepv1_CGTGATGAGTCCTC      | 3pv1 | 4121 | 1228 | 0.01504489 | T_CD4 | T |\n",
       "\n"
      ],
      "text/plain": [
       "      cell_id                      donor nUMI nGene percent_mito cell_type\n",
       "17642 fivePrime_GATCGCGAGACCGGAT   5p    6580 2020  0.05714286   B        \n",
       "4820  threepfresh_GATCGTACAAAGGTGC 3pv2  4426 1207  0.03366471   T_CD8    \n",
       "13347 fivePrime_AACTCAGGTTACGCGC   5p    4750 1670  0.05642105   B        \n",
       "10634 threepv1_CGTGATGAGTCCTC      3pv1  4121 1228  0.01504489   T_CD4    \n",
       "      cell_type_broad\n",
       "17642 B              \n",
       "4820  T              \n",
       "13347 B              \n",
       "10634 T              "
      ]
     },
     "metadata": {},
     "output_type": "display_data"
    }
   ],
   "source": [
    "pbmcs_meta_small %>% head(4)"
   ]
  },
  {
   "cell_type": "markdown",
   "metadata": {},
   "source": [
    "Subset dataset into reference and query"
   ]
  },
  {
   "cell_type": "code",
   "execution_count": 8,
   "metadata": {},
   "outputs": [],
   "source": [
    "idx_query = which(pbmcs_meta_small$donor == \"5p\") # use 5' dataset as the query\n",
    "ref_exp_full = pbmcs_exprs_small[, -idx_query]\n",
    "ref_metadata = pbmcs_meta_small[-idx_query, ]\n",
    "query_exp = pbmcs_exprs_small[, idx_query]\n",
    "query_metadata = pbmcs_meta_small[idx_query, ]"
   ]
  },
  {
   "cell_type": "markdown",
   "metadata": {},
   "source": [
    "# Build Symphony Reference"
   ]
  },
  {
   "cell_type": "markdown",
   "metadata": {},
   "source": [
    "There are two options for how to build a Symphony reference. Option 1 (`buildReferenceFromHarmonyObj`) is the more modular option, meaning that the user has more control over the preprocessing steps prior to reference compression. Option 2 (`buildReference`) builds a reference starting from expression, automating the procedure more but offering less flexibility. \n",
    "\n",
    "We'll demonstrate both options below."
   ]
  },
  {
   "cell_type": "markdown",
   "metadata": {},
   "source": [
    "## Option 1: Build from Harmony object (preferred method)\n",
    "This option consists of more steps than Option 2 but allows your code to be more modular and flexible if you want to do your own preprocessing steps before the Harmony integration step. We recommend this option for most users.\n",
    "\n",
    "It is important to generate `vargenes_means_sds` (containing variable gene means and standard deviations used to scale the genes) as well as save the loadings for the PCA step. "
   ]
  },
  {
   "cell_type": "code",
   "execution_count": 9,
   "metadata": {},
   "outputs": [
    {
     "data": {
      "text/plain": [
       "5 x 2 sparse Matrix of class \"dgCMatrix\"\n",
       "             threepfresh_GATCGTACAAAGGTGC threepv1_CGTGATGAGTCCTC\n",
       "RP11-34P13.3                            .                       .\n",
       "FAM138A                                 .                       .\n",
       "OR4F5                                   .                       .\n",
       "RP11-34P13.7                            .                       .\n",
       "RP11-34P13.8                            .                       ."
      ]
     },
     "metadata": {},
     "output_type": "display_data"
    }
   ],
   "source": [
    "# Sparse matrix with the normalized genes x cells matrix\n",
    "ref_exp_full[1:5, 1:2]"
   ]
  },
  {
   "cell_type": "markdown",
   "metadata": {},
   "source": [
    "Select variable genes and subset reference expression by variable genes"
   ]
  },
  {
   "cell_type": "code",
   "execution_count": 10,
   "metadata": {},
   "outputs": [
    {
     "data": {
      "text/html": [
       "<style>\n",
       ".list-inline {list-style: none; margin:0; padding: 0}\n",
       ".list-inline>li {display: inline-block}\n",
       ".list-inline>li:not(:last-child)::after {content: \"\\00b7\"; padding: 0 .5ex}\n",
       "</style>\n",
       "<ol class=list-inline><li>1767</li><li>770</li></ol>\n"
      ],
      "text/latex": [
       "\\begin{enumerate*}\n",
       "\\item 1767\n",
       "\\item 770\n",
       "\\end{enumerate*}\n"
      ],
      "text/markdown": [
       "1. 1767\n",
       "2. 770\n",
       "\n",
       "\n"
      ],
      "text/plain": [
       "[1] 1767  770"
      ]
     },
     "metadata": {},
     "output_type": "display_data"
    }
   ],
   "source": [
    "var_genes = vargenes_vst(ref_exp_full, groups = as.character(ref_metadata[['donor']]), topn = 1000)\n",
    "ref_exp = ref_exp_full[var_genes, ]\n",
    "dim(ref_exp)"
   ]
  },
  {
   "cell_type": "code",
   "execution_count": 43,
   "metadata": {},
   "outputs": [
    {
     "name": "stderr",
     "output_type": "stream",
     "text": [
      "\u001b[32m✔\u001b[39m Saving \u001b[34m'pbmcs_exprs_small'\u001b[39m, \u001b[34m'pbmcs_meta_small'\u001b[39m to \u001b[34m'data/pbmcs_exprs_small.rda'\u001b[39m, \u001b[34m'data/pbmcs_meta_small.rda'\u001b[39m\n",
      "\n",
      "\u001b[31m•\u001b[39m Document your data (see \u001b[34m'https://r-pkgs.org/data.html'\u001b[39m)\n",
      "\n"
     ]
    }
   ],
   "source": [
    "pbmcs_exprs_small = pbmcs_exprs_small[var_genes, ]\n",
    "usethis::use_data(pbmcs_exprs_small, pbmcs_meta_small)"
   ]
  },
  {
   "cell_type": "markdown",
   "metadata": {},
   "source": [
    "Calculate and save the mean and standard deviations for each gene"
   ]
  },
  {
   "cell_type": "code",
   "execution_count": 11,
   "metadata": {},
   "outputs": [
    {
     "ename": "ERROR",
     "evalue": "Error in rowSDs(ref_exp, vargenes_means_sds$mean): could not find function \"rowSDs\"\n",
     "output_type": "error",
     "traceback": [
      "Error in rowSDs(ref_exp, vargenes_means_sds$mean): could not find function \"rowSDs\"\nTraceback:\n"
     ]
    }
   ],
   "source": [
    "vargenes_means_sds = tibble(symbol = var_genes, mean = Matrix::rowMeans(ref_exp))\n",
    "vargenes_means_sds$stddev = rowSDs(ref_exp, vargenes_means_sds$mean)\n",
    "head(vargenes_means_sds)"
   ]
  },
  {
   "cell_type": "markdown",
   "metadata": {},
   "source": [
    "Scale data using calculated gene means and standard deviations"
   ]
  },
  {
   "cell_type": "code",
   "execution_count": 12,
   "metadata": {},
   "outputs": [
    {
     "ename": "ERROR",
     "evalue": "Error in scaleDataWithStats(ref_exp, vargenes_means_sds$mean, vargenes_means_sds$stddev, : could not find function \"scaleDataWithStats\"\n",
     "output_type": "error",
     "traceback": [
      "Error in scaleDataWithStats(ref_exp, vargenes_means_sds$mean, vargenes_means_sds$stddev, : could not find function \"scaleDataWithStats\"\nTraceback:\n"
     ]
    }
   ],
   "source": [
    "ref_exp_scaled = scaleDataWithStats(ref_exp, vargenes_means_sds$mean, vargenes_means_sds$stddev, 1)"
   ]
  },
  {
   "cell_type": "markdown",
   "metadata": {},
   "source": [
    "Run SVD, save gene loadings (s$u)"
   ]
  },
  {
   "cell_type": "code",
   "execution_count": 46,
   "metadata": {},
   "outputs": [],
   "source": [
    "set.seed(0)\n",
    "s = irlba(ref_exp_scaled, nv = 20)\n",
    "Z_pca_ref = diag(s$d) %*% t(s$v) # [pcs by cells]\n",
    "loadings = s$u"
   ]
  },
  {
   "cell_type": "markdown",
   "metadata": {},
   "source": [
    "Run Harmony integration"
   ]
  },
  {
   "cell_type": "code",
   "execution_count": 47,
   "metadata": {},
   "outputs": [
    {
     "name": "stderr",
     "output_type": "stream",
     "text": [
      "Harmony 1/20\n",
      "\n",
      "Harmony 2/20\n",
      "\n",
      "Harmony 3/20\n",
      "\n",
      "Harmony 4/20\n",
      "\n",
      "Harmony 5/20\n",
      "\n",
      "Harmony converged after 5 iterations\n",
      "\n"
     ]
    }
   ],
   "source": [
    "set.seed(0)\n",
    "ref_harmObj = harmony::HarmonyMatrix(\n",
    "        data_mat = t(Z_pca_ref),  ## PCA embedding matrix of cells\n",
    "        meta_data = ref_metadata, ## dataframe with cell labels\n",
    "        theta = c(2),             ## cluster diversity enforcement\n",
    "        vars_use = c('donor'),    ## variable to integrate out\n",
    "        nclust = 100,             ## number of clusters in Harmony model\n",
    "        max.iter.harmony = 20,\n",
    "        return_object = TRUE,     ## return the full Harmony model object\n",
    "        do_pca = FALSE            ## don't recompute PCs\n",
    ")"
   ]
  },
  {
   "cell_type": "markdown",
   "metadata": {},
   "source": [
    "To run the next function `buildReferenceFromHarmonyObj()`, you need to input the saved gene loadings (`loadings`) and `vargenes_means_sds`."
   ]
  },
  {
   "cell_type": "code",
   "execution_count": 48,
   "metadata": {},
   "outputs": [
    {
     "name": "stderr",
     "output_type": "stream",
     "text": [
      "Save metadata, vargenes (S), and loadings (U)\n",
      "\n",
      "Save R, Z_orig, Z_corr, and betas from Harmony object\n",
      "\n",
      "Calculate final L2 normalized reference centroids (Y_cos)\n",
      "\n",
      "Calculate reference compression terms (Nr and C)\n",
      "\n",
      "UMAP\n",
      "\n",
      "File already exists at that path... overwriting...\n",
      "\n",
      "Warning message:\n",
      "“invalid uid value replaced by that for user 'nobody'”\n",
      "Saved uwot model\n",
      "\n",
      "Finished nicely.\n",
      "\n"
     ]
    }
   ],
   "source": [
    "# Compress a Harmony object into a Symphony reference\n",
    "reference = symphony::buildReferenceFromHarmonyObj(\n",
    "                           ref_harmObj,            # output object from HarmonyMatrix()\n",
    "                           ref_metadata,           # reference cell metadata\n",
    "                           vargenes_means_sds,     # gene names, means, and std devs for scaling\n",
    "                           loadings,               # genes x PCs matrix\n",
    "                           verbose = TRUE,         # verbose output\n",
    "                           do_umap = TRUE,         # Set to TRUE only when UMAP model was saved for reference\n",
    "                           save_uwot_path = './testing_uwot_model_1')"
   ]
  },
  {
   "cell_type": "markdown",
   "metadata": {},
   "source": [
    "Save Symphony reference (modify with your desired output path)"
   ]
  },
  {
   "cell_type": "code",
   "execution_count": 49,
   "metadata": {},
   "outputs": [],
   "source": [
    "saveRDS(reference, './testing_reference1.rds')"
   ]
  },
  {
   "cell_type": "markdown",
   "metadata": {},
   "source": [
    "Let's take a look at what the reference object contains:\n",
    "- meta_data: metadata\n",
    "- vargenes: variable genes, means, and standard deviations used for scaling\n",
    "- loadings: gene loadings for projection into pre-Harmony PC space\n",
    "- R: Soft cluster assignments\n",
    "- Z_orig: Pre-Harmony PC embedding\n",
    "- Z_corr: Harmonized PC embedding\n",
    "- centroids: locations of final Harmony soft cluster centroids\n",
    "- cache: pre-calculated reference-dependent portions of the mixture model\n",
    "- umap: UMAP coordinates\n",
    "- save_uwot_path: path to saved uwot model (for query UMAP projection into reference UMAP coordinates)"
   ]
  },
  {
   "cell_type": "code",
   "execution_count": 50,
   "metadata": {},
   "outputs": [
    {
     "name": "stdout",
     "output_type": "stream",
     "text": [
      "List of 12\n",
      " $ meta_data     :'data.frame':\t770 obs. of  7 variables:\n",
      "  ..$ cell_id        : chr [1:770] \"threepfresh_GATCGTACAAAGGTGC\" \"threepv1_CGTGATGAGTCCTC\" \"threepv1_AAGAATCTTGGAGG\" \"threepfresh_CTGAAACCACACTGCG\" ...\n",
      "  ..$ donor          : chr [1:770] \"3pv2\" \"3pv1\" \"3pv1\" \"3pv2\" ...\n",
      "  ..$ nUMI           : int [1:770] 4426 4121 1535 11956 6273 1840 2702 4260 3436 3966 ...\n",
      "  ..$ nGene          : int [1:770] 1207 1228 560 2685 1615 584 945 1188 1360 1486 ...\n",
      "  ..$ percent_mito   : num [1:770] 0.0337 0.015 0.0261 0.0278 0.0289 ...\n",
      "  ..$ cell_type      : chr [1:770] \"T_CD8\" \"T_CD4\" \"B\" \"DC\" ...\n",
      "  ..$ cell_type_broad: chr [1:770] \"T\" \"T\" \"B\" \"DC\" ...\n",
      " $ vargenes      : tibble [1,767 × 3] (S3: tbl_df/tbl/data.frame)\n",
      "  ..$ symbol: chr [1:1767] \"LYZ\" \"FTL\" \"HLA-DRA\" \"CD74\" ...\n",
      "  ..$ mean  : Named num [1:1767] 1.78 3.55 1.87 2.54 2.53 ...\n",
      "  .. ..- attr(*, \"names\")= chr [1:1767] \"LYZ\" \"FTL\" \"HLA-DRA\" \"CD74\" ...\n",
      "  ..$ stddev: Named num [1:1767] 1.91 1.22 1.69 1.53 1.46 ...\n",
      "  .. ..- attr(*, \"names\")= chr [1:1767] \"LYZ\" \"FTL\" \"HLA-DRA\" \"CD74\" ...\n",
      " $ loadings      : num [1:1767, 1:20] 0.1098 0.1047 0.0745 0.0584 0.0779 ...\n",
      " $ R             : num [1:100, 1:770] 4.66e-11 1.64e-08 3.90e-02 1.62e-15 1.62e-15 ...\n",
      " $ Z_orig        : num [1:20, 1:770] -5.928 0.622 4.177 0.677 0.965 ...\n",
      "  ..- attr(*, \"dimnames\")=List of 2\n",
      "  .. ..$ : chr [1:20] \"PC_1\" \"PC_2\" \"PC_3\" \"PC_4\" ...\n",
      "  .. ..$ : chr [1:770] \"4820\" \"10634\" \"8538\" \"4091\" ...\n",
      " $ Z_corr        : num [1:20, 1:770] -5.8658 0.6353 4.1858 -0.9124 0.0555 ...\n",
      "  ..- attr(*, \"dimnames\")=List of 2\n",
      "  .. ..$ : chr [1:20] \"harmony_1\" \"harmony_2\" \"harmony_3\" \"harmony_4\" ...\n",
      "  .. ..$ : chr [1:770] \"4820\" \"10634\" \"8538\" \"4091\" ...\n",
      " $ betas         : num [1:3, 1:20, 1:100] -2.894 -0.032 0.032 -10.318 0.825 ...\n",
      " $ centroids     : num [1:20, 1:100] -0.21968 -0.78433 -0.34593 -0.07948 0.00153 ...\n",
      " $ cache         :List of 2\n",
      "  ..$ : num [1:100, 1] 9.15 7.67 8.45 10.44 10.44 ...\n",
      "  ..$ : num [1:100, 1:20] -26.4 -39.9 -50.7 139.3 139.3 ...\n",
      " $ centroids_pc  :'data.frame':\t100 obs. of  20 variables:\n",
      "  ..$ harmony_1 : num [1:100] -2.89 -5.2 -6 13.34 13.34 ...\n",
      "  ..$ harmony_2 : num [1:100] -10.316 5.365 0.267 0.489 0.489 ...\n",
      "  ..$ harmony_3 : num [1:100] -4.55 -1.84 4.04 1.53 1.53 ...\n",
      "  ..$ harmony_4 : num [1:100] -1.045 1.122 -0.674 0.163 0.162 ...\n",
      "  ..$ harmony_5 : num [1:100] 0.0201 0.4899 -0.4845 -1.7791 -1.7758 ...\n",
      "  ..$ harmony_6 : num [1:100] 0.316 -1.18 0.426 0.37 0.369 ...\n",
      "  ..$ harmony_7 : num [1:100] -0.6714 0.00809 -0.08804 -0.70156 -0.70165 ...\n",
      "  ..$ harmony_8 : num [1:100] 0.453 4.979 -1.483 0.46 0.46 ...\n",
      "  ..$ harmony_9 : num [1:100] -0.8688 0.4706 -0.0056 -0.3294 -0.33 ...\n",
      "  ..$ harmony_10: num [1:100] -0.952 -0.11 -0.273 -0.263 -0.265 ...\n",
      "  ..$ harmony_11: num [1:100] 0.6454 -1.7537 -0.0237 -0.0453 -0.0447 ...\n",
      "  ..$ harmony_12: num [1:100] 2.8135 0.2848 0.0124 -0.6627 -0.6628 ...\n",
      "  ..$ harmony_13: num [1:100] -2.9174 -1.6812 0.0115 -0.1312 -0.1315 ...\n",
      "  ..$ harmony_14: num [1:100] 2.79 -0.831 -0.361 -0.316 -0.317 ...\n",
      "  ..$ harmony_15: num [1:100] -1.9597 0.9247 -0.0709 0.689 0.6892 ...\n",
      "  ..$ harmony_16: num [1:100] -1.8138 -0.2874 0.2862 -0.0818 -0.0815 ...\n",
      "  ..$ harmony_17: num [1:100] -0.4071 1.1827 -0.0758 -0.6584 -0.6578 ...\n",
      "  ..$ harmony_18: num [1:100] -0.317 0.895 -0.02 -0.147 -0.146 ...\n",
      "  ..$ harmony_19: num [1:100] -0.429 0.272 0.204 -0.154 -0.153 ...\n",
      "  ..$ harmony_20: num [1:100] -1.3424 1.449 -0.0969 -0.1959 -0.1963 ...\n",
      " $ umap          :List of 1\n",
      "  ..$ embedding: num [1:770, 1:2] -9.06 -8.29 12.98 10.22 10.68 ...\n",
      "  .. ..- attr(*, \"scaled:center\")= num [1:2] -6.1427 -0.0723\n",
      "  .. ..- attr(*, \"dimnames\")=List of 2\n",
      "  .. .. ..$ : NULL\n",
      "  .. .. ..$ : chr [1:2] \"UMAP1\" \"UMAP2\"\n",
      " $ save_uwot_path: chr \"./testing_uwot_model_1\"\n"
     ]
    }
   ],
   "source": [
    "str(reference)"
   ]
  },
  {
   "cell_type": "markdown",
   "metadata": {},
   "source": [
    "The harmonized embedding is located in the `Z_corr` slot of the reference object."
   ]
  },
  {
   "cell_type": "code",
   "execution_count": 51,
   "metadata": {},
   "outputs": [
    {
     "data": {
      "text/html": [
       "<style>\n",
       ".list-inline {list-style: none; margin:0; padding: 0}\n",
       ".list-inline>li {display: inline-block}\n",
       ".list-inline>li:not(:last-child)::after {content: \"\\00b7\"; padding: 0 .5ex}\n",
       "</style>\n",
       "<ol class=list-inline><li>20</li><li>770</li></ol>\n"
      ],
      "text/latex": [
       "\\begin{enumerate*}\n",
       "\\item 20\n",
       "\\item 770\n",
       "\\end{enumerate*}\n"
      ],
      "text/markdown": [
       "1. 20\n",
       "2. 770\n",
       "\n",
       "\n"
      ],
      "text/plain": [
       "[1]  20 770"
      ]
     },
     "metadata": {},
     "output_type": "display_data"
    },
    {
     "data": {
      "text/html": [
       "<table class=\"dataframe\">\n",
       "<caption>A matrix: 5 × 5 of type dbl</caption>\n",
       "<thead>\n",
       "\t<tr><th></th><th scope=col>4820</th><th scope=col>10634</th><th scope=col>8538</th><th scope=col>4091</th><th scope=col>11682</th></tr>\n",
       "</thead>\n",
       "<tbody>\n",
       "\t<tr><th scope=row>harmony_1</th><td>-5.86582910</td><td>-5.2391890</td><td> -3.9160812</td><td> 9.5522895</td><td>14.48509568</td></tr>\n",
       "\t<tr><th scope=row>harmony_2</th><td> 0.63532030</td><td> 1.2168169</td><td>-14.0733634</td><td>-2.3384053</td><td> 0.54561273</td></tr>\n",
       "\t<tr><th scope=row>harmony_3</th><td> 4.18582875</td><td> 3.8074352</td><td> -5.9540371</td><td>-0.1056305</td><td> 0.07950463</td></tr>\n",
       "\t<tr><th scope=row>harmony_4</th><td>-0.91237369</td><td>-0.5037637</td><td>  0.1755544</td><td>-0.4632790</td><td>-3.82706116</td></tr>\n",
       "\t<tr><th scope=row>harmony_5</th><td> 0.05553176</td><td> 1.5168596</td><td> -1.0497742</td><td> 5.4897877</td><td> 3.72461112</td></tr>\n",
       "</tbody>\n",
       "</table>\n"
      ],
      "text/latex": [
       "A matrix: 5 × 5 of type dbl\n",
       "\\begin{tabular}{r|lllll}\n",
       "  & 4820 & 10634 & 8538 & 4091 & 11682\\\\\n",
       "\\hline\n",
       "\tharmony\\_1 & -5.86582910 & -5.2391890 &  -3.9160812 &  9.5522895 & 14.48509568\\\\\n",
       "\tharmony\\_2 &  0.63532030 &  1.2168169 & -14.0733634 & -2.3384053 &  0.54561273\\\\\n",
       "\tharmony\\_3 &  4.18582875 &  3.8074352 &  -5.9540371 & -0.1056305 &  0.07950463\\\\\n",
       "\tharmony\\_4 & -0.91237369 & -0.5037637 &   0.1755544 & -0.4632790 & -3.82706116\\\\\n",
       "\tharmony\\_5 &  0.05553176 &  1.5168596 &  -1.0497742 &  5.4897877 &  3.72461112\\\\\n",
       "\\end{tabular}\n"
      ],
      "text/markdown": [
       "\n",
       "A matrix: 5 × 5 of type dbl\n",
       "\n",
       "| <!--/--> | 4820 | 10634 | 8538 | 4091 | 11682 |\n",
       "|---|---|---|---|---|---|\n",
       "| harmony_1 | -5.86582910 | -5.2391890 |  -3.9160812 |  9.5522895 | 14.48509568 |\n",
       "| harmony_2 |  0.63532030 |  1.2168169 | -14.0733634 | -2.3384053 |  0.54561273 |\n",
       "| harmony_3 |  4.18582875 |  3.8074352 |  -5.9540371 | -0.1056305 |  0.07950463 |\n",
       "| harmony_4 | -0.91237369 | -0.5037637 |   0.1755544 | -0.4632790 | -3.82706116 |\n",
       "| harmony_5 |  0.05553176 |  1.5168596 |  -1.0497742 |  5.4897877 |  3.72461112 |\n",
       "\n"
      ],
      "text/plain": [
       "          4820        10634      8538        4091       11682      \n",
       "harmony_1 -5.86582910 -5.2391890  -3.9160812  9.5522895 14.48509568\n",
       "harmony_2  0.63532030  1.2168169 -14.0733634 -2.3384053  0.54561273\n",
       "harmony_3  4.18582875  3.8074352  -5.9540371 -0.1056305  0.07950463\n",
       "harmony_4 -0.91237369 -0.5037637   0.1755544 -0.4632790 -3.82706116\n",
       "harmony_5  0.05553176  1.5168596  -1.0497742  5.4897877  3.72461112"
      ]
     },
     "metadata": {},
     "output_type": "display_data"
    }
   ],
   "source": [
    "dim(reference$Z_corr)\n",
    "reference$Z_corr[1:5, 1:5]"
   ]
  },
  {
   "cell_type": "markdown",
   "metadata": {},
   "source": [
    "Visualize reference UMAP"
   ]
  },
  {
   "cell_type": "code",
   "execution_count": 52,
   "metadata": {},
   "outputs": [
    {
     "data": {
      "image/png": "[encoded data removed]",
      "text/plain": [
       "plot without title"
      ]
     },
     "metadata": {
      "image/png": {
       "height": 240,
       "width": 360
      }
     },
     "output_type": "display_data"
    }
   ],
   "source": [
    "reference = readRDS('./testing_reference1.rds')\n",
    "\n",
    "umap_labels = cbind(ref_metadata, reference$umap$embedding)\n",
    "\n",
    "plotBasic(umap_labels, title = 'Reference', color.mapping = pbmc_colors)"
   ]
  },
  {
   "cell_type": "markdown",
   "metadata": {},
   "source": [
    "## Option 2: Build from scratch (starting with expression)"
   ]
  },
  {
   "cell_type": "markdown",
   "metadata": {},
   "source": [
    "This option computes a reference object starting from expression in a unified pipeline, automating the preprocessing steps."
   ]
  },
  {
   "cell_type": "code",
   "execution_count": 53,
   "metadata": {},
   "outputs": [
    {
     "name": "stderr",
     "output_type": "stream",
     "text": [
      "Finding variable genes using vst method\n",
      "\n",
      "Total 1767 genes for downstream steps\n",
      "\n",
      "Scaling and PCA\n",
      "\n",
      "Running Harmony integration\n",
      "\n",
      "Harmony 1/20\n",
      "\n",
      "Harmony 2/20\n",
      "\n",
      "Harmony 3/20\n",
      "\n",
      "Harmony 4/20\n",
      "\n",
      "Harmony 5/20\n",
      "\n",
      "Harmony 6/20\n",
      "\n",
      "Harmony 7/20\n",
      "\n",
      "Harmony converged after 7 iterations\n",
      "\n",
      "Computing reference compression terms\n",
      "\n",
      "Running UMAP\n",
      "\n",
      "File already exists at that path... overwriting...\n",
      "\n",
      "Warning message:\n",
      "“invalid uid value replaced by that for user 'nobody'”\n",
      "Saved uwot model\n",
      "\n"
     ]
    }
   ],
   "source": [
    "# Build reference\n",
    "set.seed(0)\n",
    "reference = symphony::buildReference(\n",
    "    ref_exp_full,\n",
    "    ref_metadata,\n",
    "    vars = c('donor'),         # variables to integrate over\n",
    "    K = 100,                   # number of Harmony clusters\n",
    "    verbose = TRUE,            # verbose output\n",
    "    do_umap = TRUE,            # can set to FALSE if want to run umap separately later\n",
    "    do_normalize = FALSE,      # set to TRUE if input counts are not normalized yet\n",
    "    vargenes_method = 'vst',   # method for variable gene selection ('vst' or 'mvp')\n",
    "    vargenes_groups = 'donor', # metadata column specifying groups for variable gene selection \n",
    "    topn = 1000,               # number of variable genes to choose per group\n",
    "    d = 20,                    # number of PCs\n",
    "    save_uwot_path = './testing_uwot_model_2'\n",
    ")\n",
    "\n",
    "# Save reference (modify with your desired output path)\n",
    "saveRDS(reference, './testing_reference2.rds')"
   ]
  },
  {
   "cell_type": "markdown",
   "metadata": {},
   "source": [
    "Visualize reference UMAP"
   ]
  },
  {
   "cell_type": "code",
   "execution_count": 54,
   "metadata": {},
   "outputs": [
    {
     "data": {
      "image/png": "[encoded data removed]",
      "text/plain": [
       "plot without title"
      ]
     },
     "metadata": {
      "image/png": {
       "height": 240,
       "width": 360
      }
     },
     "output_type": "display_data"
    }
   ],
   "source": [
    "reference = readRDS('./testing_reference2.rds')\n",
    "\n",
    "umap_labels = cbind(ref_metadata, reference$umap$embedding)\n",
    "\n",
    "plotBasic(umap_labels, title = 'Reference', color.mapping = pbmc_colors)"
   ]
  },
  {
   "cell_type": "markdown",
   "metadata": {},
   "source": [
    "# Map query"
   ]
  },
  {
   "cell_type": "markdown",
   "metadata": {},
   "source": [
    "In order to map a new query dataset onto the reference, you will need a reference object saved from the steps above, as well as query cell expression and metadata.\n",
    "\n",
    "The query dataset is assumed to have been normalized in the same manner as the reference cells (here, default is log(CP10k+1) normalization)."
   ]
  },
  {
   "cell_type": "code",
   "execution_count": 55,
   "metadata": {},
   "outputs": [],
   "source": [
    "# Read in Symphony reference to map to\n",
    "reference = readRDS('./testing_reference1.rds')"
   ]
  },
  {
   "cell_type": "code",
   "execution_count": 56,
   "metadata": {},
   "outputs": [
    {
     "name": "stderr",
     "output_type": "stream",
     "text": [
      "Scaling and synchronizing query gene expression\n",
      "\n",
      "Found 1767 out of 1767 reference variable genes in query dataset\n",
      "\n",
      "Project query cells using reference gene loadings\n",
      "\n",
      "Clustering query cells to reference centroids\n",
      "\n",
      "Correcting query batch effects\n",
      "\n",
      "UMAP\n",
      "\n",
      "All done!\n",
      "\n"
     ]
    }
   ],
   "source": [
    "# Map query\n",
    "query = mapQuery(query_exp,             # query gene expression (genes x cells)\n",
    "                 query_metadata,        # query metadata (cells x attributes)\n",
    "                 reference,             # Symphony reference object\n",
    "                 do_normalize = FALSE,  # perform log(CP10k) normalization on query\n",
    "                 do_umap = TRUE)        # project query cells into reference UMAP"
   ]
  },
  {
   "cell_type": "markdown",
   "metadata": {},
   "source": [
    "Note: Symphony assumes that the query is normalized in the same manner as the reference. Our implementation currently uses log(CP10k) normalization."
   ]
  },
  {
   "cell_type": "markdown",
   "metadata": {},
   "source": [
    "Let's take a look at what the query object contains:\n",
    "- Z: query cells in reference Harmonized embedding\n",
    "- Zq_pca: query cells in pre-Harmony reference PC embedding (prior to correction)\n",
    "- R: query cell soft cluster assignments\n",
    "- Xq: query cell design matrix for correction step\n",
    "- umap: query cells projected into reference UMAP coordinates (using uwot)\n",
    "- meta_data: metadata"
   ]
  },
  {
   "cell_type": "code",
   "execution_count": 57,
   "metadata": {},
   "outputs": [
    {
     "name": "stdout",
     "output_type": "stream",
     "text": [
      "List of 7\n",
      " $ exp      :Formal class 'dgCMatrix' [package \"Matrix\"] with 6 slots\n",
      "  .. ..@ i       : int [1:772050] 8 73 85 97 101 139 153 173 176 188 ...\n",
      "  .. ..@ p       : int [1:431] 0 2020 3690 5358 7385 9275 10663 12324 14129 15546 ...\n",
      "  .. ..@ Dim     : int [1:2] 33694 430\n",
      "  .. ..@ Dimnames:List of 2\n",
      "  .. .. ..$ : chr [1:33694] \"RP11-34P13.3\" \"FAM138A\" \"OR4F5\" \"RP11-34P13.7\" ...\n",
      "  .. .. ..$ : chr [1:430] \"fivePrime_GATCGCGAGACCGGAT\" \"fivePrime_AACTCAGGTTACGCGC\" \"fivePrime_ACATCAGGTCTTGTCC\" \"fivePrime_GCCTCTATCATGTCCC\" ...\n",
      "  .. ..@ x       : num [1:772050] 0.924 0.924 0.924 0.924 1.396 ...\n",
      "  .. ..@ factors : list()\n",
      " $ meta_data:'data.frame':\t430 obs. of  7 variables:\n",
      "  ..$ cell_id        : chr [1:430] \"fivePrime_GATCGCGAGACCGGAT\" \"fivePrime_AACTCAGGTTACGCGC\" \"fivePrime_ACATCAGGTCTTGTCC\" \"fivePrime_GCCTCTATCATGTCCC\" ...\n",
      "  ..$ donor          : chr [1:430] \"5p\" \"5p\" \"5p\" \"5p\" ...\n",
      "  ..$ nUMI           : int [1:430] 6580 4750 4432 5831 5558 5360 4749 5152 4929 4194 ...\n",
      "  ..$ nGene          : int [1:430] 2020 1670 1668 2027 1890 1388 1661 1805 1417 1575 ...\n",
      "  ..$ percent_mito   : num [1:430] 0.0571 0.0564 0.0399 0.0326 0.0587 ...\n",
      "  ..$ cell_type      : chr [1:430] \"B\" \"B\" \"B\" \"T_CD4\" ...\n",
      "  ..$ cell_type_broad: chr [1:430] \"B\" \"B\" \"B\" \"T\" ...\n",
      " $ Z        : num [1:20, 1:430] -2.539 -13.01 -7.721 0.43 0.835 ...\n",
      "  ..- attr(*, \"dimnames\")=List of 2\n",
      "  .. ..$ : chr [1:20] \"harmony_1\" \"harmony_2\" \"harmony_3\" \"harmony_4\" ...\n",
      "  .. ..$ : chr [1:430] \"17642\" \"13347\" \"13638\" \"17934\" ...\n",
      " $ Zq_pca   : num [1:20, 1:430] -2 -13.67 -8.76 2 2.24 ...\n",
      "  ..- attr(*, \"dimnames\")=List of 2\n",
      "  .. ..$ : chr [1:20] \"PC_1\" \"PC_2\" \"PC_3\" \"PC_4\" ...\n",
      "  .. ..$ : chr [1:430] \"17642\" \"13347\" \"13638\" \"17934\" ...\n",
      " $ R        : num [1:100, 1:430] 3.51e-02 2.52e-11 2.48e-11 6.17e-11 6.18e-11 ...\n",
      " $ Xq       :Formal class 'dgCMatrix' [package \"Matrix\"] with 6 slots\n",
      "  .. ..@ i       : int [1:860] 0 1 0 1 0 1 0 1 0 1 ...\n",
      "  .. ..@ p       : int [1:431] 0 2 4 6 8 10 12 14 16 18 ...\n",
      "  .. ..@ Dim     : int [1:2] 2 430\n",
      "  .. ..@ Dimnames:List of 2\n",
      "  .. .. ..$ : NULL\n",
      "  .. .. ..$ : NULL\n",
      "  .. ..@ x       : num [1:860] 1 1 1 1 1 1 1 1 1 1 ...\n",
      "  .. ..@ factors : list()\n",
      " $ umap     : num [1:430, 1:2] 13.41 13.55 13.54 -7.41 13 ...\n",
      "  ..- attr(*, \"dimnames\")=List of 2\n",
      "  .. ..$ : NULL\n",
      "  .. ..$ : chr [1:2] \"UMAP1\" \"UMAP2\"\n"
     ]
    }
   ],
   "source": [
    "str(query)"
   ]
  },
  {
   "cell_type": "markdown",
   "metadata": {},
   "source": [
    "Predict query cell types using k-NN"
   ]
  },
  {
   "cell_type": "code",
   "execution_count": 58,
   "metadata": {},
   "outputs": [],
   "source": [
    "query = knnPredict(query, reference, reference$meta_data$cell_type, k = 5)"
   ]
  },
  {
   "cell_type": "markdown",
   "metadata": {},
   "source": [
    "Query cell type predictions are now in the `cell_type_pred_knn` column."
   ]
  },
  {
   "cell_type": "code",
   "execution_count": 59,
   "metadata": {},
   "outputs": [
    {
     "data": {
      "text/html": [
       "<table class=\"dataframe\">\n",
       "<caption>A data.frame: 6 × 8</caption>\n",
       "<thead>\n",
       "\t<tr><th></th><th scope=col>cell_id</th><th scope=col>donor</th><th scope=col>nUMI</th><th scope=col>nGene</th><th scope=col>percent_mito</th><th scope=col>cell_type</th><th scope=col>cell_type_broad</th><th scope=col>cell_type_pred_knn</th></tr>\n",
       "\t<tr><th></th><th scope=col>&lt;chr&gt;</th><th scope=col>&lt;chr&gt;</th><th scope=col>&lt;int&gt;</th><th scope=col>&lt;int&gt;</th><th scope=col>&lt;dbl&gt;</th><th scope=col>&lt;chr&gt;</th><th scope=col>&lt;chr&gt;</th><th scope=col>&lt;fct&gt;</th></tr>\n",
       "</thead>\n",
       "<tbody>\n",
       "\t<tr><th scope=row>17642</th><td>fivePrime_GATCGCGAGACCGGAT</td><td>5p</td><td>6580</td><td>2020</td><td>0.05714286</td><td>B    </td><td>B</td><td>B    </td></tr>\n",
       "\t<tr><th scope=row>13347</th><td>fivePrime_AACTCAGGTTACGCGC</td><td>5p</td><td>4750</td><td>1670</td><td>0.05642105</td><td>B    </td><td>B</td><td>B    </td></tr>\n",
       "\t<tr><th scope=row>13638</th><td>fivePrime_ACATCAGGTCTTGTCC</td><td>5p</td><td>4432</td><td>1668</td><td>0.03993682</td><td>B    </td><td>B</td><td>B    </td></tr>\n",
       "\t<tr><th scope=row>17934</th><td>fivePrime_GCCTCTATCATGTCCC</td><td>5p</td><td>5831</td><td>2027</td><td>0.03258446</td><td>T_CD4</td><td>T</td><td>T_CD4</td></tr>\n",
       "\t<tr><th scope=row>14432</th><td>fivePrime_AGGGATGGTGGGTATG</td><td>5p</td><td>5558</td><td>1890</td><td>0.05865419</td><td>B    </td><td>B</td><td>B    </td></tr>\n",
       "\t<tr><th scope=row>18442</th><td>fivePrime_GGGACCTCATGCCACG</td><td>5p</td><td>5360</td><td>1388</td><td>0.03750000</td><td>T_CD4</td><td>T</td><td>T_CD4</td></tr>\n",
       "</tbody>\n",
       "</table>\n"
      ],
      "text/latex": [
       "A data.frame: 6 × 8\n",
       "\\begin{tabular}{r|llllllll}\n",
       "  & cell\\_id & donor & nUMI & nGene & percent\\_mito & cell\\_type & cell\\_type\\_broad & cell\\_type\\_pred\\_knn\\\\\n",
       "  & <chr> & <chr> & <int> & <int> & <dbl> & <chr> & <chr> & <fct>\\\\\n",
       "\\hline\n",
       "\t17642 & fivePrime\\_GATCGCGAGACCGGAT & 5p & 6580 & 2020 & 0.05714286 & B     & B & B    \\\\\n",
       "\t13347 & fivePrime\\_AACTCAGGTTACGCGC & 5p & 4750 & 1670 & 0.05642105 & B     & B & B    \\\\\n",
       "\t13638 & fivePrime\\_ACATCAGGTCTTGTCC & 5p & 4432 & 1668 & 0.03993682 & B     & B & B    \\\\\n",
       "\t17934 & fivePrime\\_GCCTCTATCATGTCCC & 5p & 5831 & 2027 & 0.03258446 & T\\_CD4 & T & T\\_CD4\\\\\n",
       "\t14432 & fivePrime\\_AGGGATGGTGGGTATG & 5p & 5558 & 1890 & 0.05865419 & B     & B & B    \\\\\n",
       "\t18442 & fivePrime\\_GGGACCTCATGCCACG & 5p & 5360 & 1388 & 0.03750000 & T\\_CD4 & T & T\\_CD4\\\\\n",
       "\\end{tabular}\n"
      ],
      "text/markdown": [
       "\n",
       "A data.frame: 6 × 8\n",
       "\n",
       "| <!--/--> | cell_id &lt;chr&gt; | donor &lt;chr&gt; | nUMI &lt;int&gt; | nGene &lt;int&gt; | percent_mito &lt;dbl&gt; | cell_type &lt;chr&gt; | cell_type_broad &lt;chr&gt; | cell_type_pred_knn &lt;fct&gt; |\n",
       "|---|---|---|---|---|---|---|---|---|\n",
       "| 17642 | fivePrime_GATCGCGAGACCGGAT | 5p | 6580 | 2020 | 0.05714286 | B     | B | B     |\n",
       "| 13347 | fivePrime_AACTCAGGTTACGCGC | 5p | 4750 | 1670 | 0.05642105 | B     | B | B     |\n",
       "| 13638 | fivePrime_ACATCAGGTCTTGTCC | 5p | 4432 | 1668 | 0.03993682 | B     | B | B     |\n",
       "| 17934 | fivePrime_GCCTCTATCATGTCCC | 5p | 5831 | 2027 | 0.03258446 | T_CD4 | T | T_CD4 |\n",
       "| 14432 | fivePrime_AGGGATGGTGGGTATG | 5p | 5558 | 1890 | 0.05865419 | B     | B | B     |\n",
       "| 18442 | fivePrime_GGGACCTCATGCCACG | 5p | 5360 | 1388 | 0.03750000 | T_CD4 | T | T_CD4 |\n",
       "\n"
      ],
      "text/plain": [
       "      cell_id                    donor nUMI nGene percent_mito cell_type\n",
       "17642 fivePrime_GATCGCGAGACCGGAT 5p    6580 2020  0.05714286   B        \n",
       "13347 fivePrime_AACTCAGGTTACGCGC 5p    4750 1670  0.05642105   B        \n",
       "13638 fivePrime_ACATCAGGTCTTGTCC 5p    4432 1668  0.03993682   B        \n",
       "17934 fivePrime_GCCTCTATCATGTCCC 5p    5831 2027  0.03258446   T_CD4    \n",
       "14432 fivePrime_AGGGATGGTGGGTATG 5p    5558 1890  0.05865419   B        \n",
       "18442 fivePrime_GGGACCTCATGCCACG 5p    5360 1388  0.03750000   T_CD4    \n",
       "      cell_type_broad cell_type_pred_knn\n",
       "17642 B               B                 \n",
       "13347 B               B                 \n",
       "13638 B               B                 \n",
       "17934 T               T_CD4             \n",
       "14432 B               B                 \n",
       "18442 T               T_CD4             "
      ]
     },
     "metadata": {},
     "output_type": "display_data"
    }
   ],
   "source": [
    "head(query$meta_data)"
   ]
  },
  {
   "cell_type": "markdown",
   "metadata": {},
   "source": [
    "## Visualization of mapping"
   ]
  },
  {
   "cell_type": "code",
   "execution_count": 60,
   "metadata": {},
   "outputs": [],
   "source": [
    "# Sync the column names for both data frames\n",
    "reference$meta_data$cell_type_pred_knn = NA\n",
    "reference$meta_data$ref_query = 'reference'\n",
    "query$meta_data$ref_query = 'query'\n",
    "\n",
    "# Add the UMAP coordinates to the metadata\n",
    "meta_data_combined = rbind(query$meta_data, reference$meta_data)\n",
    "umap_combined = rbind(query$umap, reference$umap$embedding)\n",
    "umap_combined_labels = cbind(meta_data_combined, umap_combined)"
   ]
  },
  {
   "cell_type": "code",
   "execution_count": 61,
   "metadata": {},
   "outputs": [
    {
     "data": {
      "image/png": "[encoded data removed]",
      "text/plain": [
       "plot without title"
      ]
     },
     "metadata": {
      "image/png": {
       "height": 240,
       "width": 360
      }
     },
     "output_type": "display_data"
    }
   ],
   "source": [
    "# Plot UMAP visualization of all cells\n",
    "\n",
    "plotBasic(umap_combined_labels, title = 'Reference and query cells', color.by = 'ref_query')"
   ]
  },
  {
   "cell_type": "code",
   "execution_count": 62,
   "metadata": {},
   "outputs": [
    {
     "data": {
      "image/png": "[encoded data removed]",
      "text/plain": [
       "plot without title"
      ]
     },
     "metadata": {
      "image/png": {
       "height": 240,
       "width": 360
      }
     },
     "output_type": "display_data"
    }
   ],
   "source": [
    "plotBasic(umap_combined_labels, title = 'Reference and query cells', \n",
    "          color.mapping = pbmc_colors, facet.by = 'ref_query')"
   ]
  },
  {
   "cell_type": "code",
   "execution_count": 63,
   "metadata": {},
   "outputs": [
    {
     "data": {
      "text/plain": [
       "R version 4.0.5 (2021-03-31)\n",
       "Platform: x86_64-conda-linux-gnu (64-bit)\n",
       "Running under: Red Hat Enterprise Linux Server release 6.5 (Santiago)\n",
       "\n",
       "Matrix products: default\n",
       "BLAS/LAPACK: /PHShome/jbk37/anaconda3/envs/seurat4/lib/libopenblasp-r0.3.15.so\n",
       "\n",
       "locale:\n",
       " [1] LC_CTYPE=en_US.UTF-8       LC_NUMERIC=C              \n",
       " [3] LC_TIME=en_US.UTF-8        LC_COLLATE=en_US.UTF-8    \n",
       " [5] LC_MONETARY=en_US.UTF-8    LC_MESSAGES=en_US.UTF-8   \n",
       " [7] LC_PAPER=en_US.UTF-8       LC_NAME=C                 \n",
       " [9] LC_ADDRESS=C               LC_TELEPHONE=C            \n",
       "[11] LC_MEASUREMENT=en_US.UTF-8 LC_IDENTIFICATION=C       \n",
       "\n",
       "attached base packages:\n",
       "[1] stats     graphics  grDevices utils     datasets  methods   base     \n",
       "\n",
       "other attached packages:\n",
       " [1] patchwork_1.1.1    RColorBrewer_1.1-2 ggrastr_0.2.3      ggthemes_4.2.4    \n",
       " [5] data.table_1.14.0  forcats_0.5.1      stringr_1.4.0      dplyr_1.0.7       \n",
       " [9] purrr_0.3.4        readr_1.4.0        tidyr_1.1.3        tibble_3.1.2      \n",
       "[13] ggplot2_3.3.5      tidyverse_1.3.1    irlba_2.3.3        Matrix_1.3-3      \n",
       "[17] harmony_0.1.0      Rcpp_1.0.7         symphony_0.1.0    \n",
       "\n",
       "loaded via a namespace (and not attached):\n",
       " [1] httr_1.4.2              jsonlite_1.7.2          modelr_0.1.8           \n",
       " [4] assertthat_0.2.1        vipor_0.4.5             cellranger_1.1.0       \n",
       " [7] singlecellmethods_0.1.0 ggrepel_0.9.1           pillar_1.6.1           \n",
       "[10] backports_1.2.1         lattice_0.20-44         glue_1.4.2             \n",
       "[13] uuid_0.1-4              digest_0.6.27           rvest_1.0.0            \n",
       "[16] colorspace_2.0-2        cowplot_1.1.1           htmltools_0.5.1.1      \n",
       "[19] pkgconfig_2.0.3         broom_0.7.6             haven_2.4.1            \n",
       "[22] scales_1.1.1            RANN_2.6.1              RSpectra_0.16-0        \n",
       "[25] farver_2.1.0            generics_0.1.0          usethis_2.0.1          \n",
       "[28] ellipsis_0.3.2          withr_2.4.2             repr_1.1.3             \n",
       "[31] cli_3.0.1               magrittr_2.0.1          crayon_1.4.1           \n",
       "[34] readxl_1.3.1            evaluate_0.14           fs_1.5.0               \n",
       "[37] fansi_0.5.0             class_7.3-19            xml2_1.3.2             \n",
       "[40] beeswarm_0.4.0          Cairo_1.5-12.2          tools_4.0.5            \n",
       "[43] hms_1.1.0               lifecycle_1.0.0         munsell_0.5.0          \n",
       "[46] reprex_2.0.0            compiler_4.0.5          rlang_0.4.11           \n",
       "[49] grid_4.0.5              pbdZMQ_0.3-5            IRkernel_1.2           \n",
       "[52] rstudioapi_0.13         RcppAnnoy_0.0.18        labeling_0.4.2         \n",
       "[55] base64enc_0.1-3         gtable_0.3.0            codetools_0.2-18       \n",
       "[58] DBI_1.1.1               R6_2.5.0                lubridate_1.7.10       \n",
       "[61] uwot_0.1.10             utf8_1.2.1              rprojroot_2.0.2        \n",
       "[64] desc_1.3.0              stringi_1.6.2           ggbeeswarm_0.6.0       \n",
       "[67] IRdisplay_1.0           vctrs_0.3.8             dbplyr_2.1.1           \n",
       "[70] tidyselect_1.1.1       "
      ]
     },
     "metadata": {},
     "output_type": "display_data"
    }
   ],
   "source": [
    "sessionInfo()"
   ]
  },
  {
   "cell_type": "markdown",
   "metadata": {},
   "source": [
    "And that's a wrap! If you run into issues or have questions about Symphony or this tutorial, please open an issue on GitHub."
   ]
  }
 ],
 "metadata": {
  "kernelspec": {
   "display_name": "R",
   "language": "R",
   "name": "ir"
  },
  "language_info": {
   "codemirror_mode": "r",
   "file_extension": ".r",
   "mimetype": "text/x-r-source",
   "name": "R",
   "pygments_lexer": "r",
   "version": "4.0.5"
  }
 },
 "nbformat": 4,
 "nbformat_minor": 4
}
